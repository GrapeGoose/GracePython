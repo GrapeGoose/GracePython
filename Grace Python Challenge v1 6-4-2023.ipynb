{
 "cells": [
  {
   "cell_type": "code",
   "execution_count": 79,
   "id": "09464107",
   "metadata": {},
   "outputs": [],
   "source": [
    "## Fraction Simplify\n",
    "#120/25 = 24/5\n",
    "#Grace HW #1: \n",
    "\n",
    "#Write a Python Script to Simplify Fractions\n",
    "#Simplify Fractions into Simplified Format.\n",
    "\n",
    "#120/80 = 3/2\n",
    "#100/12 = 50/6 = 25 / 3"
   ]
  },
  {
   "cell_type": "code",
   "execution_count": null,
   "id": "701a9eae",
   "metadata": {},
   "outputs": [],
   "source": [
    "##Grace's Code"
   ]
  },
  {
   "cell_type": "code",
   "execution_count": 123,
   "id": "71915bc0",
   "metadata": {},
   "outputs": [],
   "source": [
    "def reduce(input1,input2):\n",
    "    for k in range(1,input1):\n",
    "        if input1%k==0 and input2%k==0:\n",
    "            print(str(k) + \" is the current largest Common Factor.\")\n",
    "            n = k\n",
    "    numerator = input1/n\n",
    "    denominator = input2/n\n",
    "    print(\"The reduced fraction is: \" + str(numerator) + \" over \" + str(denominator))"
   ]
  },
  {
   "cell_type": "code",
   "execution_count": 125,
   "id": "e81230f7",
   "metadata": {},
   "outputs": [
    {
     "name": "stdout",
     "output_type": "stream",
     "text": [
      "1 is the current largest Common Factor.\n",
      "2 is the current largest Common Factor.\n",
      "4 is the current largest Common Factor.\n",
      "The reduced fraction is: 25.0 over 3.0\n"
     ]
    }
   ],
   "source": [
    "reduce(100,12)"
   ]
  },
  {
   "cell_type": "code",
   "execution_count": null,
   "id": "30e96090",
   "metadata": {},
   "outputs": [],
   "source": []
  },
  {
   "cell_type": "code",
   "execution_count": 80,
   "id": "a4a843f7",
   "metadata": {},
   "outputs": [
    {
     "name": "stdout",
     "output_type": "stream",
     "text": [
      "5\n"
     ]
    }
   ],
   "source": []
  },
  {
   "cell_type": "code",
   "execution_count": 112,
   "id": "1da25a75",
   "metadata": {},
   "outputs": [],
   "source": [
    "def reduceFraction(x,y):\n",
    "    print(x)\n",
    "    print(y)\n",
    "    GCFXY=findGCF(x,y)\n",
    "    print(x/GCFXY)\n",
    "    print(y/GCFXY)\n",
    "    print(\"The reduced fraction is: \")\n",
    "    print(\"     \")\n",
    "    print(str(x/GCFXY))\n",
    "    print(\"----\")\n",
    "    print(str(y/GCFXY))"
   ]
  },
  {
   "cell_type": "code",
   "execution_count": null,
   "id": "671c38da",
   "metadata": {},
   "outputs": [],
   "source": []
  },
  {
   "cell_type": "code",
   "execution_count": 113,
   "id": "cbc7b2ad",
   "metadata": {},
   "outputs": [],
   "source": [
    "def findGCF(input1,input2):\n",
    "    print(input1)\n",
    "    print(input2)\n",
    "    largestCommonFactor=0\n",
    "    for k in range(1,input1):\n",
    "        if input1%k==0 and input2%k==0:\n",
    "            print(str(k) + \" is the current largest Common Factor.\")\n",
    "            largestCommonFactor=k\n",
    "    return(largestCommonFactor)"
   ]
  },
  {
   "cell_type": "code",
   "execution_count": 114,
   "id": "6cf2c111",
   "metadata": {},
   "outputs": [],
   "source": [
    "def primeFactorization(inputNumber):\n",
    "    primeFactorList=[]\n",
    "    if inputNumber %2 ==0:\n",
    "        primeFactorList.append(2)\n",
    "    if inputNumber %3 ==0:\n",
    "        primeFactorList.append(3)\n",
    "    if inputNumber %5 ==0:\n",
    "        primeFactorList.append(5)\n",
    "    if inputNumber %7 ==0:\n",
    "        primeFactorList.append(7)\n",
    "    if inputNumber %10 ==0:\n",
    "        primeFactorList.append(10)\n",
    "\n",
    "    print(primeFactorList)"
   ]
  },
  {
   "cell_type": "code",
   "execution_count": 122,
   "id": "84493b6e",
   "metadata": {},
   "outputs": [
    {
     "name": "stdout",
     "output_type": "stream",
     "text": [
      "1000\n",
      "35\n",
      "1000\n",
      "35\n",
      "1 is the current largest Common Factor.\n",
      "5 is the current largest Common Factor.\n",
      "200.0\n",
      "7.0\n",
      "The reduced fraction is: \n",
      "     \n",
      "200.0\n",
      "----\n",
      "7.0\n"
     ]
    }
   ],
   "source": [
    "reduceFraction(1000,35)"
   ]
  },
  {
   "cell_type": "code",
   "execution_count": 107,
   "id": "509538c6",
   "metadata": {},
   "outputs": [],
   "source": [
    "#x=100\n",
    "#y=12\n",
    "#reduceFraction()\n",
    "#primeFactorization(x)"
   ]
  },
  {
   "cell_type": "code",
   "execution_count": null,
   "id": "d7744e8c",
   "metadata": {},
   "outputs": [],
   "source": []
  },
  {
   "cell_type": "code",
   "execution_count": null,
   "id": "53f99a4d",
   "metadata": {},
   "outputs": [],
   "source": []
  }
 ],
 "metadata": {
  "kernelspec": {
   "display_name": "Python 3 (ipykernel)",
   "language": "python",
   "name": "python3"
  },
  "language_info": {
   "codemirror_mode": {
    "name": "ipython",
    "version": 3
   },
   "file_extension": ".py",
   "mimetype": "text/x-python",
   "name": "python",
   "nbconvert_exporter": "python",
   "pygments_lexer": "ipython3",
   "version": "3.9.12"
  }
 },
 "nbformat": 4,
 "nbformat_minor": 5
}
